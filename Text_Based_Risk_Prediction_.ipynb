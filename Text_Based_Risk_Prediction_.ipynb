{
  "nbformat": 4,
  "nbformat_minor": 0,
  "metadata": {
    "colab": {
      "provenance": [],
      "mount_file_id": "18mRrIqA9SY7CrOU1-4ZRF8PFSKR5Gtds",
      "authorship_tag": "ABX9TyN/x4I4Axef6JShO35+aXSN",
      "include_colab_link": true
    },
    "kernelspec": {
      "name": "python3",
      "display_name": "Python 3"
    },
    "language_info": {
      "name": "python"
    }
  },
  "cells": [
    {
      "cell_type": "markdown",
      "metadata": {
        "id": "view-in-github",
        "colab_type": "text"
      },
      "source": [
        "<a href=\"https://colab.research.google.com/github/smahasr/Text-Based-Risk-Preidiction/blob/main/Text_Based_Risk_Prediction_.ipynb\" target=\"_parent\"><img src=\"https://colab.research.google.com/assets/colab-badge.svg\" alt=\"Open In Colab\"/></a>"
      ]
    },
    {
      "cell_type": "code",
      "source": [
        "! pip install pyspark"
      ],
      "metadata": {
        "colab": {
          "base_uri": "https://localhost:8080/"
        },
        "id": "Z3uOAwlLkFdA",
        "outputId": "946b1d77-b6fc-41f7-d293-6113d8e06c4a"
      },
      "execution_count": null,
      "outputs": [
        {
          "output_type": "stream",
          "name": "stdout",
          "text": [
            "Requirement already satisfied: pyspark in /usr/local/lib/python3.10/dist-packages (3.5.1)\n",
            "Requirement already satisfied: py4j==0.10.9.7 in /usr/local/lib/python3.10/dist-packages (from pyspark) (0.10.9.7)\n"
          ]
        }
      ]
    },
    {
      "cell_type": "code",
      "source": [
        "from google.colab import drive\n",
        "drive.mount('/content/drive')"
      ],
      "metadata": {
        "colab": {
          "base_uri": "https://localhost:8080/"
        },
        "id": "HC0KRNxIh_ay",
        "outputId": "e3a558dc-95bd-40f7-e97d-7207ac1532bc"
      },
      "execution_count": null,
      "outputs": [
        {
          "output_type": "stream",
          "name": "stdout",
          "text": [
            "Drive already mounted at /content/drive; to attempt to forcibly remount, call drive.mount(\"/content/drive\", force_remount=True).\n"
          ]
        }
      ]
    },
    {
      "cell_type": "markdown",
      "source": [
        "#Data preprocessing"
      ],
      "metadata": {
        "id": "XFgx-usOi7sx"
      }
    },
    {
      "cell_type": "code",
      "source": [
        "from pyspark.ml.feature import Tokenizer, StopWordsRemover, Word2Vec, VectorAssembler, StringIndexer, IndexToString\n",
        "from pyspark.ml.classification import RandomForestClassifier\n",
        "from pyspark.ml.evaluation import MulticlassClassificationEvaluator\n",
        "from pyspark.sql import SparkSession\n",
        "from pyspark.ml.feature import IndexToString\n",
        "from pyspark.ml import Pipeline"
      ],
      "metadata": {
        "id": "aUhMfnTMKFNp"
      },
      "execution_count": null,
      "outputs": []
    },
    {
      "cell_type": "code",
      "source": [
        "# Initialize SparkSession\n",
        "spark = SparkSession.builder.getOrCreate()"
      ],
      "metadata": {
        "id": "eGWKa8ivKH4f"
      },
      "execution_count": null,
      "outputs": []
    },
    {
      "cell_type": "code",
      "source": [
        "# Load the data\n",
        "data = spark.read.csv(\"/content/drive/MyDrive/project /Patients_data (1).csv\", header=True, inferSchema=True)\n"
      ],
      "metadata": {
        "id": "YGcHWCt-KK0O"
      },
      "execution_count": null,
      "outputs": []
    },
    {
      "cell_type": "code",
      "source": [
        "# Tokenize the text column\n",
        "tokenizer = Tokenizer(inputCol=\"Symptoms\", outputCol=\"tokenized_Symptoms\")\n",
        "data = tokenizer.transform(data)\n"
      ],
      "metadata": {
        "id": "AVJ0QtamKM32"
      },
      "execution_count": null,
      "outputs": []
    },
    {
      "cell_type": "code",
      "source": [
        "# Define stop words\n",
        "stop_words = StopWordsRemover.loadDefaultStopWords(\"english\")\n",
        "\n",
        "# Tokenize the text columns\n",
        "tokenizer = Tokenizer(inputCol=\"Symptoms\", outputCol=\"tokenized_Symptoms0\")\n",
        "data = tokenizer.transform(data)\n",
        "tokenizer = Tokenizer(inputCol=\"Medication\", outputCol=\"tokenized_Medication\")\n",
        "data = tokenizer.transform(data)\n",
        "tokenizer = Tokenizer(inputCol=\"Risk Factors\", outputCol=\"tokenized_RiskFactors\")\n",
        "data = tokenizer.transform(data)"
      ],
      "metadata": {
        "id": "nPwrcQeYKRAT"
      },
      "execution_count": null,
      "outputs": []
    },
    {
      "cell_type": "code",
      "source": [
        "# Remove stop words\n",
        "remover = StopWordsRemover(inputCol=\"tokenized_Symptoms\", outputCol=\"filtered_tokenizedSymptoms\", stopWords=stop_words)\n",
        "data = remover.transform(data)\n",
        "remover.setInputCol(\"tokenized_Medication\").setOutputCol(\"filtered_tokenizedMedication\")\n",
        "data = remover.transform(data)\n",
        "remover.setInputCol(\"tokenized_RiskFactors\").setOutputCol(\"filtered_tokenizedRiskFactors\")\n",
        "data = remover.transform(data)"
      ],
      "metadata": {
        "id": "bENoKZS3KTdW"
      },
      "execution_count": null,
      "outputs": []
    },
    {
      "cell_type": "code",
      "source": [
        "# Generate word embeddings for Symptoms\n",
        "word2vec = Word2Vec(vectorSize=100, minCount=5, inputCol=\"filtered_tokenizedSymptoms\", outputCol=\"Embedded_Symptoms\")\n",
        "model = word2vec.fit(data)\n",
        "data = model.transform(data)\n",
        "\n",
        "# Generate word embeddings for Medication\n",
        "word2vec = Word2Vec(vectorSize=100, minCount=5, inputCol=\"filtered_tokenizedMedication\", outputCol=\"Embedded_Medication\")\n",
        "model = word2vec.fit(data)\n",
        "data = model.transform(data)\n",
        "\n",
        "# Generate word embeddings for Risk Factors\n",
        "word2vec = Word2Vec(vectorSize=100, minCount=5, inputCol=\"filtered_tokenizedRiskFactors\", outputCol=\"Embedded_RiskFactors\")\n",
        "model = word2vec.fit(data)\n",
        "data = model.transform(data)"
      ],
      "metadata": {
        "id": "kf5sqdUkKYKi"
      },
      "execution_count": null,
      "outputs": []
    },
    {
      "cell_type": "code",
      "source": [
        "# Now you can use the VectorAssembler\n",
        "assembler = VectorAssembler(inputCols=[\"Embedded_Symptoms\", \"Embedded_Medication\", \"Embedded_RiskFactors\"], outputCol=\"features\")\n",
        "data = assembler.transform(data)"
      ],
      "metadata": {
        "id": "5dBnq2-8Kdp_"
      },
      "execution_count": null,
      "outputs": []
    },
    {
      "cell_type": "markdown",
      "source": [
        "# Splitting the Data"
      ],
      "metadata": {
        "id": "bQwBmdebjIYN"
      }
    },
    {
      "cell_type": "code",
      "source": [
        "# Split the dataset into training and test sets\n",
        "(training_data, test_data) = data.randomSplit([0.75, 0.25], seed=1234)"
      ],
      "metadata": {
        "id": "foifkEOnKgVA"
      },
      "execution_count": null,
      "outputs": []
    },
    {
      "cell_type": "code",
      "source": [
        "# Define the RandomForest model\n",
        "rf = RandomForestClassifier(labelCol=\"Risk Level\", featuresCol=\"features\", numTrees=10)"
      ],
      "metadata": {
        "id": "ATz3AYYpKjAU"
      },
      "execution_count": null,
      "outputs": []
    },
    {
      "cell_type": "code",
      "source": [
        "from pyspark.ml.feature import Bucketizer, StringIndexer\n",
        "from pyspark.ml.classification import RandomForestClassifier\n",
        "from pyspark.sql import SparkSession\n",
        "import pandas as pd\n",
        "import joblib\n",
        "\n",
        "\n",
        "# Define the splits for the Bucketizer\n",
        "splits = [-float(\"inf\"), 0.5, 1.5, float(\"inf\")]\n",
        "\n",
        "# Initialize the Bucketizer\n",
        "bucketizer = Bucketizer(splits=splits, inputCol=\"Risk Level\", outputCol=\"bucketedLabel12\")\n",
        "\n",
        "# Transform the data\n",
        "data = bucketizer.transform(data)\n",
        "\n",
        "\n",
        "# Initialize StringIndexer for Risk\n",
        "indexer = StringIndexer(inputCol=\"bucketedLabel12\", outputCol=\"label1\")\n",
        "data = indexer.fit(data).transform(data)\n",
        "\n"
      ],
      "metadata": {
        "id": "83FwjkWGZXRs"
      },
      "execution_count": null,
      "outputs": []
    },
    {
      "cell_type": "code",
      "source": [
        "\n",
        "# Split the dataset into training and test sets\n",
        "(training_data, test_data) = data.randomSplit([0.75, 0.25], seed=1234)\n",
        "\n",
        "# Define the RandomForest model\n",
        "rf = RandomForestClassifier(labelCol=\"label1\", featuresCol=\"features\", numTrees=10)\n",
        "\n",
        "# Fit the model\n",
        "model = rf.fit(training_data)\n",
        "\n"
      ],
      "metadata": {
        "id": "CAl8FIwxO_-7"
      },
      "execution_count": null,
      "outputs": []
    },
    {
      "cell_type": "code",
      "source": [
        "# Save the model to a path\n",
        "model.write().overwrite().save(\"/content/drive/MyDrive /rf_model_path\")"
      ],
      "metadata": {
        "id": "6igz9rszo5tG"
      },
      "execution_count": null,
      "outputs": []
    },
    {
      "cell_type": "code",
      "source": [
        "model\n"
      ],
      "metadata": {
        "colab": {
          "base_uri": "https://localhost:8080/"
        },
        "id": "bLSVlBx8p262",
        "outputId": "fd4d590a-03e1-4c5f-84af-f018907c7b4a"
      },
      "execution_count": null,
      "outputs": [
        {
          "output_type": "execute_result",
          "data": {
            "text/plain": [
              "RandomForestClassificationModel: uid=RandomForestClassifier_ad13cace9cfd, numTrees=10, numClasses=2, numFeatures=300"
            ]
          },
          "metadata": {},
          "execution_count": 16
        }
      ]
    },
    {
      "cell_type": "code",
      "source": [
        "# Make predictions\n",
        "predictions = model.transform(test_data)"
      ],
      "metadata": {
        "id": "vHrdVRkzWkvU"
      },
      "execution_count": null,
      "outputs": []
    },
    {
      "cell_type": "code",
      "source": [
        "\n",
        "# Evaluate the model\n",
        "evaluator = MulticlassClassificationEvaluator(labelCol=\"label1\", predictionCol=\"prediction\", metricName=\"accuracy\")\n",
        "accuracy = evaluator.evaluate(predictions)\n",
        "print(f\"Test set accuracy = {accuracy}\")\n",
        "\n",
        "from pyspark.ml.evaluation import BinaryClassificationEvaluator, MulticlassClassificationEvaluator\n",
        "\n",
        "# Precision, Recall, F1 Score\n",
        "evaluator = MulticlassClassificationEvaluator(labelCol=\"label1\", predictionCol=\"prediction\")\n",
        "precision = evaluator.evaluate(predictions, {evaluator.metricName: \"weightedPrecision\"})\n",
        "recall = evaluator.evaluate(predictions, {evaluator.metricName: \"weightedRecall\"})\n",
        "f1 = evaluator.evaluate(predictions, {evaluator.metricName: \"f1\"})\n",
        "print(f\"Weighted Precision = {precision}\")\n",
        "print(f\"Weighted Recall = {recall}\")\n",
        "print(f\"F1 Score = {f1}\")\n"
      ],
      "metadata": {
        "id": "U647g0nGO9vU",
        "colab": {
          "base_uri": "https://localhost:8080/"
        },
        "outputId": "4f1e5220-57f3-40d7-cc2a-e3a82f8f2960"
      },
      "execution_count": null,
      "outputs": [
        {
          "output_type": "stream",
          "name": "stdout",
          "text": [
            "Test set accuracy = 0.9845814977973568\n",
            "Weighted Precision = 0.984187060690132\n",
            "Weighted Recall = 0.9845814977973568\n",
            "F1 Score = 0.984216743148615\n"
          ]
        }
      ]
    },
    {
      "cell_type": "code",
      "source": [
        "\n",
        "# Show the DataFrame\n",
        "predictions.select(\"Patient Name\", \"label1\", \"Risk Level\").show()\n"
      ],
      "metadata": {
        "id": "8NaTgSWMDhtr",
        "colab": {
          "base_uri": "https://localhost:8080/"
        },
        "outputId": "55dde472-a4cc-4392-9209-bd954cafe9d2"
      },
      "execution_count": null,
      "outputs": [
        {
          "output_type": "stream",
          "name": "stdout",
          "text": [
            "+------------------+------+----------+\n",
            "|      Patient Name|label1|Risk Level|\n",
            "+------------------+------+----------+\n",
            "|    Aaron Mcintosh|   0.0|       1.0|\n",
            "|    Aaron Williams|   0.0|       1.0|\n",
            "|      Alan Wallace|   0.0|       1.0|\n",
            "|  Alexander Nelson|   0.0|       1.0|\n",
            "|Alexander Reynolds|   0.0|       1.0|\n",
            "|    Alexander Ross|   0.0|       1.0|\n",
            "|   Alexandra Scott|   0.0|       1.0|\n",
            "|   Alexandria Moss|   1.0|       0.4|\n",
            "|  Alexis Schroeder|   0.0|       1.0|\n",
            "|       Alexis Wolf|   0.0|       1.0|\n",
            "|       Allen Cross|   0.0|       1.0|\n",
            "|      Amanda James|   0.0|       1.0|\n",
            "|     Amanda Murray|   0.0|       0.5|\n",
            "|      Amber Martin|   0.0|       1.0|\n",
            "|      Amber Willis|   0.0|       1.0|\n",
            "|      Amy Anderson|   0.0|       1.0|\n",
            "|         Amy Bates|   0.0|       1.0|\n",
            "|          Amy King|   0.0|       1.0|\n",
            "|        Amy Porter|   0.0|       0.5|\n",
            "|          Ana Lowe|   0.0|       1.0|\n",
            "+------------------+------+----------+\n",
            "only showing top 20 rows\n",
            "\n"
          ]
        }
      ]
    },
    {
      "cell_type": "code",
      "source": [
        "import matplotlib.pyplot as plt\n",
        "import seaborn as sns\n",
        "\n",
        "# Convert Spark DataFrame to Pandas DataFrame for plotting\n",
        "predictions_pd = predictions.toPandas()\n",
        "\n",
        "# Plot risk level by age\n",
        "plt.figure(figsize=(10, 6))\n",
        "sns.boxplot(x='Risk Level', y='Age', data=predictions_pd)\n",
        "plt.title('Risk Level by Age')\n",
        "plt.show()\n",
        "\n"
      ],
      "metadata": {
        "id": "uA8Zr-i22gRX",
        "colab": {
          "base_uri": "https://localhost:8080/",
          "height": 564
        },
        "outputId": "a7f170f1-60f9-44a2-e8b7-52f3d7bbfcbc"
      },
      "execution_count": null,
      "outputs": [
        {
          "output_type": "display_data",
          "data": {
            "text/plain": [
              "<Figure size 1000x600 with 1 Axes>"
            ],
            "image/png": "[encoded data removed]"
          },
          "metadata": {}
        }
      ]
    },
    {
      "cell_type": "markdown",
      "source": [
        "OUTOF SAMPLE PREDICTION:"
      ],
      "metadata": {
        "id": "mtoWu5a1stI3"
      }
    },
    {
      "cell_type": "code",
      "source": [
        "from pyspark.ml.feature import Tokenizer, StopWordsRemover, Word2Vec, VectorAssembler, StringIndexer\n",
        "from pyspark.ml.classification import RandomForestClassificationModel\n",
        "from pyspark.sql import SparkSession\n",
        "from pyspark.ml.evaluation import MulticlassClassificationEvaluator"
      ],
      "metadata": {
        "id": "v-MDShvHv542"
      },
      "execution_count": null,
      "outputs": []
    },
    {
      "cell_type": "code",
      "source": [
        "# Create a SparkSession\n",
        "spark = SparkSession.builder.appName(\"Predictions\").getOrCreate()\n",
        "\n",
        "# Load your new data\n",
        "new_data = spark.read.format(\"csv\").option(\"header\", \"true\").load('/content/drive/MyDrive/project /Outofsampleprediction (1).csv')"
      ],
      "metadata": {
        "id": "qNp8IJWyv887"
      },
      "execution_count": null,
      "outputs": []
    },
    {
      "cell_type": "code",
      "source": [
        "# Tokenize the text columns\n",
        "tokenizer = Tokenizer(inputCol=\"Symptoms\", outputCol=\"tokenized_Symptoms\")\n",
        "new_data = tokenizer.transform(new_data)\n",
        "tokenizer = Tokenizer(inputCol=\"Medication\", outputCol=\"tokenized_Medication\")\n",
        "new_data = tokenizer.transform(new_data)\n",
        "tokenizer = Tokenizer(inputCol=\"Risk Factors\", outputCol=\"tokenized_RiskFactors\")\n",
        "new_data = tokenizer.transform(new_data)"
      ],
      "metadata": {
        "id": "Xk5WLlRHwApa"
      },
      "execution_count": null,
      "outputs": []
    },
    {
      "cell_type": "code",
      "source": [
        "# Remove stop words\n",
        "stop_words = StopWordsRemover.loadDefaultStopWords(\"english\")\n",
        "remover = StopWordsRemover(inputCol=\"tokenized_Symptoms\", outputCol=\"filtered_tokenizedSymptoms\", stopWords=stop_words)\n",
        "new_data = remover.transform(new_data)\n",
        "remover.setInputCol(\"tokenized_Medication\").setOutputCol(\"filtered_tokenizedMedication\")\n",
        "new_data = remover.transform(new_data)\n",
        "remover.setInputCol(\"tokenized_RiskFactors\").setOutputCol(\"filtered_tokenizedRiskFactors\")\n",
        "new_data = remover.transform(new_data)"
      ],
      "metadata": {
        "id": "OFoeZYfdwF8f"
      },
      "execution_count": null,
      "outputs": []
    },
    {
      "cell_type": "code",
      "source": [
        "# Generate word embeddings\n",
        "word2vec = Word2Vec(vectorSize=100, minCount=5, inputCol=\"filtered_tokenizedSymptoms\", outputCol=\"Embedded_Symptoms\")\n",
        "model = word2vec.fit(new_data)\n",
        "new_data = model.transform(new_data)\n",
        "word2vec.setInputCol(\"filtered_tokenizedMedication\").setOutputCol(\"Embedded_Medication\")\n",
        "model = word2vec.fit(new_data)\n",
        "new_data = model.transform(new_data)\n",
        "word2vec.setInputCol(\"filtered_tokenizedRiskFactors\").setOutputCol(\"Embedded_RiskFactors\")\n",
        "model = word2vec.fit(new_data)\n",
        "new_data = model.transform(new_data)"
      ],
      "metadata": {
        "id": "8K9xzbjKwJRg"
      },
      "execution_count": null,
      "outputs": []
    },
    {
      "cell_type": "code",
      "source": [
        "\n",
        "# Assemble the features\n",
        "assembler = VectorAssembler(inputCols=[\"Embedded_Symptoms\", \"Embedded_Medication\", \"Embedded_RiskFactors\"], outputCol=\"features\")\n",
        "new_data = assembler.transform(new_data)"
      ],
      "metadata": {
        "id": "f_aLk47-wMgx"
      },
      "execution_count": null,
      "outputs": []
    },
    {
      "cell_type": "code",
      "source": [
        "\n",
        "# Load your trained RandomForestClassifier model\n",
        "rf_model = RandomForestClassificationModel.load('/content/drive/MyDrive/rf_model_path')"
      ],
      "metadata": {
        "id": "bSi_q275wTGQ"
      },
      "execution_count": null,
      "outputs": []
    },
    {
      "cell_type": "code",
      "source": [
        "# Use the model to make predictions on the new data\n",
        "new_predictions = rf_model.transform(new_data)"
      ],
      "metadata": {
        "id": "Bu2z5HgNAx2i"
      },
      "execution_count": null,
      "outputs": []
    },
    {
      "cell_type": "code",
      "source": [
        "# Show the predictions\n",
        "new_predictions.select(\"prediction\").show()"
      ],
      "metadata": {
        "colab": {
          "base_uri": "https://localhost:8080/"
        },
        "id": "CbORUN_RA9je",
        "outputId": "73359e9e-7ff1-4061-f2fa-816ff1ceb6bf"
      },
      "execution_count": null,
      "outputs": [
        {
          "output_type": "stream",
          "name": "stdout",
          "text": [
            "+----------+\n",
            "|prediction|\n",
            "+----------+\n",
            "|       0.0|\n",
            "|       0.0|\n",
            "|       0.0|\n",
            "|       0.0|\n",
            "|       0.0|\n",
            "|       0.0|\n",
            "|       0.0|\n",
            "|       0.0|\n",
            "|       0.0|\n",
            "|       0.0|\n",
            "|       0.0|\n",
            "|       0.0|\n",
            "|       0.0|\n",
            "|       0.0|\n",
            "|       0.0|\n",
            "|       0.0|\n",
            "|       0.0|\n",
            "|       0.0|\n",
            "|       0.0|\n",
            "|       0.0|\n",
            "+----------+\n",
            "only showing top 20 rows\n",
            "\n"
          ]
        }
      ]
    },
    {
      "cell_type": "code",
      "source": [
        "# Create a StringIndexer\n",
        "indexer = StringIndexer(inputCol=\"prediction\", outputCol=\"Risk Level Index\")"
      ],
      "metadata": {
        "id": "5efrVr9OBBOZ"
      },
      "execution_count": null,
      "outputs": []
    },
    {
      "cell_type": "code",
      "source": [
        "# Fit the indexer to the data\n",
        "indexer_model = indexer.fit(new_predictions)\n"
      ],
      "metadata": {
        "id": "12Uq-a33BFIq"
      },
      "execution_count": null,
      "outputs": []
    },
    {
      "cell_type": "code",
      "source": [
        "# Create a new DataFrame with numeric labels\n",
        "new_predictions = indexer_model.transform(new_predictions)"
      ],
      "metadata": {
        "id": "QhJMHB0jBJgW"
      },
      "execution_count": null,
      "outputs": []
    },
    {
      "cell_type": "code",
      "source": [
        "# Now use the 'Risk Level Index' as your labelCol\n",
        "evaluator = MulticlassClassificationEvaluator(\n",
        "    labelCol=\"Risk Level Index\",\n",
        "    predictionCol=\"prediction\",\n",
        "    metricName=\"accuracy\")\n",
        "\n",
        "accuracy = evaluator.evaluate(new_predictions)\n",
        "print(\"Accuracy = %g\" % accuracy)"
      ],
      "metadata": {
        "colab": {
          "base_uri": "https://localhost:8080/"
        },
        "id": "6eu8dgNtBPR5",
        "outputId": "1916dd94-01c7-4415-d685-f3e79dc47dce"
      },
      "execution_count": null,
      "outputs": [
        {
          "output_type": "stream",
          "name": "stdout",
          "text": [
            "Accuracy = 1\n"
          ]
        }
      ]
    },
    {
      "cell_type": "code",
      "source": [
        "from pyspark.ml.evaluation import MulticlassClassificationEvaluator\n",
        "\n",
        "# Assuming 'Risk Level Index' is your column with the true labels\n",
        "label_col = \"Risk Level Index\"\n",
        "\n",
        "# Create evaluators\n",
        "\n",
        "precision_evaluator = MulticlassClassificationEvaluator(labelCol=label_col, predictionCol=\"prediction\", metricName=\"weightedPrecision\")\n",
        "recall_evaluator = MulticlassClassificationEvaluator(labelCol=label_col, predictionCol=\"prediction\", metricName=\"weightedRecall\")\n",
        "f1_evaluator = MulticlassClassificationEvaluator(labelCol=label_col, predictionCol=\"prediction\", metricName=\"f1\")\n",
        "\n",
        "# Compute metrics\n",
        "\n",
        "test_precision = precision_evaluator.evaluate(new_predictions)\n",
        "test_recall = recall_evaluator.evaluate(new_predictions)\n",
        "test_f1 = f1_evaluator.evaluate(new_predictions)\n",
        "\n",
        "# Print metrics\n",
        "print(\"Test set metrics:\")\n",
        "\n",
        "print(\"Weighted Precision = %g\" % test_precision)\n",
        "print(\"Weighted Recall = %g\" % test_recall)\n",
        "print(\"F1 Score = %g\" % test_f1)\n"
      ],
      "metadata": {
        "colab": {
          "base_uri": "https://localhost:8080/"
        },
        "id": "WE2dwEzIXOK2",
        "outputId": "ec83b3f2-7d1f-4fea-c327-a8e1f262e56b"
      },
      "execution_count": null,
      "outputs": [
        {
          "output_type": "stream",
          "name": "stdout",
          "text": [
            "Test set metrics:\n",
            "Weighted Precision = 1\n",
            "Weighted Recall = 1\n",
            "F1 Score = 1\n"
          ]
        }
      ]
    },
    {
      "cell_type": "markdown",
      "source": [
        "# Prediction with lstm:"
      ],
      "metadata": {
        "id": "9qo36jx298Cy"
      }
    },
    {
      "cell_type": "code",
      "source": [
        "!pip install --upgrade pyspark\n"
      ],
      "metadata": {
        "colab": {
          "base_uri": "https://localhost:8080/"
        },
        "id": "8NhxfSIuerh9",
        "outputId": "9076c0d9-2164-4827-8fea-1ce468265100"
      },
      "execution_count": null,
      "outputs": [
        {
          "output_type": "stream",
          "name": "stdout",
          "text": [
            "Requirement already satisfied: pyspark in /usr/local/lib/python3.10/dist-packages (3.5.1)\n",
            "Requirement already satisfied: py4j==0.10.9.7 in /usr/local/lib/python3.10/dist-packages (from pyspark) (0.10.9.7)\n"
          ]
        }
      ]
    },
    {
      "cell_type": "code",
      "source": [
        "from pyspark.ml.feature import Tokenizer, StopWordsRemover, Word2Vec, VectorAssembler, StringIndexer, OneHotEncoder\n",
        "from pyspark.ml.classification import MultilayerPerceptronClassifier\n",
        "from pyspark.ml.evaluation import MulticlassClassificationEvaluator\n",
        "from pyspark.sql import SparkSession\n",
        "from pyspark.sql.functions import concat_ws\n",
        "\n",
        "# Initialize SparkSession\n",
        "spark = SparkSession.builder.getOrCreate()\n",
        "\n",
        "# Load the data\n",
        "data = spark.read.csv(\"/content/drive/MyDrive/project /Patients_data (1).csv\", header=True, inferSchema=True)\n",
        "\n",
        "# Combine text columns\n",
        "data = data.withColumn(\"combined_text\", concat_ws(\" \", data[\"Symptoms\"], data[\"Medication\"], data[\"Risk Factors\"]))\n",
        "\n",
        "# Text pre-processing\n",
        "tokenizer = Tokenizer(inputCol=\"combined_text\", outputCol=\"tokenized_text\")\n",
        "stop_words = StopWordsRemover.loadDefaultStopWords(\"english\")\n",
        "remover = StopWordsRemover(inputCol=\"tokenized_text\", outputCol=\"filtered_text\", stopWords=stop_words)\n",
        "data = tokenizer.transform(data)\n",
        "data = remover.transform(data)\n",
        "\n",
        "# Generate word embeddings\n",
        "word2vec = Word2Vec(vectorSize=100, minCount=5, inputCol=\"filtered_text\", outputCol=\"features\")\n",
        "model = word2vec.fit(data)\n",
        "data = model.transform(data)\n",
        "\n",
        "# Label Encoding\n",
        "labelIndexer = StringIndexer(inputCol=\"Risk Level\", outputCol=\"labelIndexed\")\n",
        "data = labelIndexer.fit(data).transform(data)\n",
        "\n",
        "# Split the dataset into training and test sets\n",
        "(training_data, test_data) = data.randomSplit([0.75, 0.25], seed=1234)\n",
        "\n",
        "# Define the MultilayerPerceptron model\n",
        "layers = [100, 50, len(data.select(\"Risk Level\").distinct().collect())]  # Output layer size matches number of risk categories\n",
        "mlp = MultilayerPerceptronClassifier(layers=layers, blockSize=128, seed=1234, labelCol=\"labelIndexed\")\n",
        "\n",
        "# Train the MLP model\n",
        "mlp_model = mlp.fit(training_data)\n",
        "\n",
        "# Make predictions on test data\n",
        "predictions = mlp_model.transform(test_data)\n",
        "\n",
        "\n",
        "# Evaluate the model\n",
        "evaluator = MulticlassClassificationEvaluator(labelCol=\"labelIndexed\", predictionCol=\"prediction\", metricName=\"accuracy\")\n",
        "accuracy = evaluator.evaluate(predictions)\n",
        "print(f\"Test set accuracy = {accuracy}\")\n"
      ],
      "metadata": {
        "colab": {
          "base_uri": "https://localhost:8080/"
        },
        "id": "lvgfmFpCgPic",
        "outputId": "c970fb3c-83f1-47d3-8c4e-e0d518d3bdb8"
      },
      "execution_count": null,
      "outputs": [
        {
          "output_type": "stream",
          "name": "stdout",
          "text": [
            "Test set accuracy = 0.9515418502202643\n"
          ]
        }
      ]
    },
    {
      "cell_type": "code",
      "source": [
        "!ls -l \"/content/drive/MyDrive/rf_model_path\"\n"
      ],
      "metadata": {
        "colab": {
          "base_uri": "https://localhost:8080/"
        },
        "id": "ayxS14LdxQUK",
        "outputId": "83ce9347-5232-4d59-ca59-2cb62354a580"
      },
      "execution_count": null,
      "outputs": [
        {
          "output_type": "stream",
          "name": "stdout",
          "text": [
            "total 12\n",
            "drwx------ 2 root root 4096 May 20 17:11 data\n",
            "drwx------ 2 root root 4096 May 20 17:11 metadata\n",
            "drwx------ 2 root root 4096 May 20 17:11 treesMetadata\n"
          ]
        }
      ]
    }
  ]
}